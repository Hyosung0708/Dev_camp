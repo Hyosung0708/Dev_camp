{
 "cells": [
  {
   "cell_type": "code",
   "execution_count": 3,
   "metadata": {},
   "outputs": [
    {
     "ename": "NameError",
     "evalue": "name 'n_neighbors' is not defined",
     "output_type": "error",
     "traceback": [
      "\u001b[1;31m---------------------------------------------------------------------------\u001b[0m",
      "\u001b[1;31mNameError\u001b[0m                                 Traceback (most recent call last)",
      "\u001b[1;32mc:\\Dev_camp\\1.머신러닝\\11.회귀_농어길이무게예측\\배포본\\3.K최근접이웃모델.ipynb Cell 1\u001b[0m line \u001b[0;36m2\n\u001b[0;32m      <a href='vscode-notebook-cell:/c%3A/Dev_camp/1.%EB%A8%B8%EC%8B%A0%EB%9F%AC%EB%8B%9D/11.%ED%9A%8C%EA%B7%80_%EB%86%8D%EC%96%B4%EA%B8%B8%EC%9D%B4%EB%AC%B4%EA%B2%8C%EC%98%88%EC%B8%A1/%EB%B0%B0%ED%8F%AC%EB%B3%B8/3.K%EC%B5%9C%EA%B7%BC%EC%A0%91%EC%9D%B4%EC%9B%83%EB%AA%A8%EB%8D%B8.ipynb#W0sZmlsZQ%3D%3D?line=8'>9</a>\u001b[0m warnings\u001b[39m.\u001b[39mfilterwarnings(action\u001b[39m=\u001b[39m\u001b[39m'\u001b[39m\u001b[39mignore\u001b[39m\u001b[39m'\u001b[39m)\n\u001b[0;32m     <a href='vscode-notebook-cell:/c%3A/Dev_camp/1.%EB%A8%B8%EC%8B%A0%EB%9F%AC%EB%8B%9D/11.%ED%9A%8C%EA%B7%80_%EB%86%8D%EC%96%B4%EA%B8%B8%EC%9D%B4%EB%AC%B4%EA%B2%8C%EC%98%88%EC%B8%A1/%EB%B0%B0%ED%8F%AC%EB%B3%B8/3.K%EC%B5%9C%EA%B7%BC%EC%A0%91%EC%9D%B4%EC%9B%83%EB%AA%A8%EB%8D%B8.ipynb#W0sZmlsZQ%3D%3D?line=10'>11</a>\u001b[0m \u001b[39m##########데이터 로드\u001b[39;00m\n\u001b[0;32m     <a href='vscode-notebook-cell:/c%3A/Dev_camp/1.%EB%A8%B8%EC%8B%A0%EB%9F%AC%EB%8B%9D/11.%ED%9A%8C%EA%B7%80_%EB%86%8D%EC%96%B4%EA%B8%B8%EC%9D%B4%EB%AC%B4%EA%B2%8C%EC%98%88%EC%B8%A1/%EB%B0%B0%ED%8F%AC%EB%B3%B8/3.K%EC%B5%9C%EA%B7%BC%EC%A0%91%EC%9D%B4%EC%9B%83%EB%AA%A8%EB%8D%B8.ipynb#W0sZmlsZQ%3D%3D?line=11'>12</a>\u001b[0m \n\u001b[0;32m     <a href='vscode-notebook-cell:/c%3A/Dev_camp/1.%EB%A8%B8%EC%8B%A0%EB%9F%AC%EB%8B%9D/11.%ED%9A%8C%EA%B7%80_%EB%86%8D%EC%96%B4%EA%B8%B8%EC%9D%B4%EB%AC%B4%EA%B2%8C%EC%98%88%EC%B8%A1/%EB%B0%B0%ED%8F%AC%EB%B3%B8/3.K%EC%B5%9C%EA%B7%BC%EC%A0%91%EC%9D%B4%EC%9B%83%EB%AA%A8%EB%8D%B8.ipynb#W0sZmlsZQ%3D%3D?line=12'>13</a>\u001b[0m \n\u001b[1;32m   (...)\u001b[0m\n\u001b[0;32m     <a href='vscode-notebook-cell:/c%3A/Dev_camp/1.%EB%A8%B8%EC%8B%A0%EB%9F%AC%EB%8B%9D/11.%ED%9A%8C%EA%B7%80_%EB%86%8D%EC%96%B4%EA%B8%B8%EC%9D%B4%EB%AC%B4%EA%B2%8C%EC%98%88%EC%B8%A1/%EB%B0%B0%ED%8F%AC%EB%B3%B8/3.K%EC%B5%9C%EA%B7%BC%EC%A0%91%EC%9D%B4%EC%9B%83%EB%AA%A8%EB%8D%B8.ipynb#W0sZmlsZQ%3D%3D?line=19'>20</a>\u001b[0m \n\u001b[0;32m     <a href='vscode-notebook-cell:/c%3A/Dev_camp/1.%EB%A8%B8%EC%8B%A0%EB%9F%AC%EB%8B%9D/11.%ED%9A%8C%EA%B7%80_%EB%86%8D%EC%96%B4%EA%B8%B8%EC%9D%B4%EB%AC%B4%EA%B2%8C%EC%98%88%EC%B8%A1/%EB%B0%B0%ED%8F%AC%EB%B3%B8/3.K%EC%B5%9C%EA%B7%BC%EC%A0%91%EC%9D%B4%EC%9B%83%EB%AA%A8%EB%8D%B8.ipynb#W0sZmlsZQ%3D%3D?line=20'>21</a>\u001b[0m \u001b[39m##########모델 생성\u001b[39;00m\n\u001b[1;32m---> <a href='vscode-notebook-cell:/c%3A/Dev_camp/1.%EB%A8%B8%EC%8B%A0%EB%9F%AC%EB%8B%9D/11.%ED%9A%8C%EA%B7%80_%EB%86%8D%EC%96%B4%EA%B8%B8%EC%9D%B4%EB%AC%B4%EA%B2%8C%EC%98%88%EC%B8%A1/%EB%B0%B0%ED%8F%AC%EB%B3%B8/3.K%EC%B5%9C%EA%B7%BC%EC%A0%91%EC%9D%B4%EC%9B%83%EB%AA%A8%EB%8D%B8.ipynb#W0sZmlsZQ%3D%3D?line=22'>23</a>\u001b[0m model \u001b[39m=\u001b[39m KNeighborsRegressor(n_neighbors\u001b[39m==\u001b[39m\u001b[39m4\u001b[39m)\n\u001b[0;32m     <a href='vscode-notebook-cell:/c%3A/Dev_camp/1.%EB%A8%B8%EC%8B%A0%EB%9F%AC%EB%8B%9D/11.%ED%9A%8C%EA%B7%80_%EB%86%8D%EC%96%B4%EA%B8%B8%EC%9D%B4%EB%AC%B4%EA%B2%8C%EC%98%88%EC%B8%A1/%EB%B0%B0%ED%8F%AC%EB%B3%B8/3.K%EC%B5%9C%EA%B7%BC%EC%A0%91%EC%9D%B4%EC%9B%83%EB%AA%A8%EB%8D%B8.ipynb#W0sZmlsZQ%3D%3D?line=24'>25</a>\u001b[0m \u001b[39m##########모델 학습\u001b[39;00m\n\u001b[0;32m     <a href='vscode-notebook-cell:/c%3A/Dev_camp/1.%EB%A8%B8%EC%8B%A0%EB%9F%AC%EB%8B%9D/11.%ED%9A%8C%EA%B7%80_%EB%86%8D%EC%96%B4%EA%B8%B8%EC%9D%B4%EB%AC%B4%EA%B2%8C%EC%98%88%EC%B8%A1/%EB%B0%B0%ED%8F%AC%EB%B3%B8/3.K%EC%B5%9C%EA%B7%BC%EC%A0%91%EC%9D%B4%EC%9B%83%EB%AA%A8%EB%8D%B8.ipynb#W0sZmlsZQ%3D%3D?line=26'>27</a>\u001b[0m model\u001b[39m.\u001b[39mfit(x_train, y_train)\n",
      "\u001b[1;31mNameError\u001b[0m: name 'n_neighbors' is not defined"
     ]
    }
   ],
   "source": [
    "import pandas as pd\n",
    "import numpy as np\n",
    "from sklearn.model_selection import train_test_split\n",
    "\n",
    "from sklearn.neighbors import KNeighborsRegressor\n",
    "\n",
    "# 경고메세지 끄기\n",
    "import warnings\n",
    "warnings.filterwarnings(action='ignore')\n",
    "\n",
    "##########데이터 로드\n",
    "\n",
    "fish_df = pd.read_csv('./data/fish.csv')\n",
    "\n",
    "##########데이터 분석\n",
    "\n",
    "##########데이터 전처리\n",
    "\n",
    "y_target = fish_df['무게']\n",
    "X_data = fish_df.drop(['무게'],axis=1)\n",
    "\n",
    "x_train, x_test, y_train , y_test = train_test_split(X_data , y_target ,test_size=0.3, random_state=42)\n",
    "\n",
    "\n",
    "\n",
    "##########모델 생성\n",
    "\n",
    "model = KNeighborsRegressor(n_neighbors==3)\n",
    "\n",
    "##########모델 학습\n",
    "\n",
    "model.fit(x_train, y_train)\n",
    "\n",
    "##########모델 검증\n",
    "\n",
    "print(model.score(x_train, y_train)) #0.9680392257494445\n",
    "print(model.score(x_test, y_test)) #0.9929281790592219\n",
    "\n",
    "##########모델 예측\n",
    "\n",
    "x_test = np.array([\n",
    "    [50]\n",
    "])\n",
    "\n",
    "y_predict = model.predict(x_test)\n",
    "\n",
    "print(y_predict[0]) #1245.423930742852"
   ]
  },
  {
   "cell_type": "markdown",
   "metadata": {},
   "source": [
    "```\n",
    "[참고]\n",
    "기계 학습에서 훈련 데이터보다 테스트 데이터에서 R-제곱(R2) 값이 더 높은 것은 드문 일입니다.\n",
    "이 비정상적인 시나리오에는 몇 가지 이유가 있을 수 있습니다.\n",
    "1. 데이터 유출\n",
    "2. 작은 테스트 세트\n",
    "```"
   ]
  }
 ],
 "metadata": {
  "kernelspec": {
   "display_name": "Python 3",
   "language": "python",
   "name": "python3"
  },
  "language_info": {
   "codemirror_mode": {
    "name": "ipython",
    "version": 3
   },
   "file_extension": ".py",
   "mimetype": "text/x-python",
   "name": "python",
   "nbconvert_exporter": "python",
   "pygments_lexer": "ipython3",
   "version": "3.10.11"
  },
  "orig_nbformat": 4
 },
 "nbformat": 4,
 "nbformat_minor": 2
}
